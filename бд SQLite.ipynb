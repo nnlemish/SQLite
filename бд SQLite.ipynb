{
 "cells": [
  {
   "cell_type": "code",
   "execution_count": 3,
   "id": "3933a1a6",
   "metadata": {},
   "outputs": [],
   "source": [
    "import sqlite3\n",
    "import pandas as pd"
   ]
  },
  {
   "cell_type": "code",
   "execution_count": 7,
   "id": "1c677a3f",
   "metadata": {},
   "outputs": [
    {
     "name": "stdout",
     "output_type": "stream",
     "text": [
      "('Toy Story',)\n",
      "(\"A Bug's Life\",)\n",
      "('Toy Story 2',)\n",
      "('Monsters, Inc.',)\n",
      "('Finding Nemo',)\n",
      "('The Incredibles',)\n",
      "('Cars 1',)\n",
      "('Ratatouille',)\n",
      "('WALL-E',)\n",
      "('Up',)\n",
      "('Toy Story 3',)\n",
      "('Cars 2',)\n",
      "('Brave',)\n",
      "('Monsters University',)\n",
      "('The Lord of the Rings: The Fellowship of the Ring',)\n",
      "('The Lord of the Rings: The Fellowship of the Ring',)\n",
      "('The Lord of the Rings: The Fellowship of the Ring',)\n"
     ]
    }
   ],
   "source": [
    "# Знайдіть назву всіх фільмів\n",
    "\n",
    "sql = \"\"\" SELECT Title\n",
    "          FROM Movies \"\"\"\n",
    "\n",
    "cursor.execute(sql)\n",
    "\n",
    "result = cursor.fetchall()\n",
    "for i in result:\n",
    "    print(i)\n",
    "\n",
    "conn.close()"
   ]
  },
  {
   "cell_type": "code",
   "execution_count": 11,
   "id": "a9720df7",
   "metadata": {},
   "outputs": [
    {
     "name": "stdout",
     "output_type": "stream",
     "text": [
      "('Toy Story', 'John Lasseter', 1995)\n",
      "(\"A Bug's Life\", 'John Lasseter', 1998)\n",
      "('Toy Story 2', 'John Lasseter', 1999)\n",
      "('Monsters, Inc.', 'Pete Docter', 2001)\n",
      "('Finding Nemo', 'Andrew Stanton', 2003)\n",
      "('The Incredibles', 'Brad Bird', 2004)\n",
      "('Cars 1', 'John Lasseter', 2006)\n",
      "('Ratatouille', 'Brad Bird', 2007)\n",
      "('WALL-E', 'Andrew Stanton', 2008)\n",
      "('Up', 'Pete Docter', 2009)\n",
      "('Toy Story 3', 'Lee Unkrich', 2010)\n",
      "('Cars 2', 'John Lasseter', 2011)\n",
      "('Brave', 'Brenda Chapman', 2012)\n",
      "('Monsters University', 'Dan Scanlon', 2013)\n",
      "('The Lord of the Rings: The Fellowship of the Ring', 'Peter Jackson', 2001)\n",
      "('The Lord of the Rings: The Fellowship of the Ring', 'Peter Jackson', 2001)\n",
      "('The Lord of the Rings: The Fellowship of the Ring', 'Peter Jackson', 2001)\n"
     ]
    }
   ],
   "source": [
    "#Знайдіть директора та рік кожного фільму\n",
    "\n",
    "conn = sqlite3.connect(r\"C:\\Users\\admin\\Desktop\\Настя\\sql lab.db\")\n",
    "cursor = conn.cursor()\n",
    "\n",
    "sql = \"\"\" SELECT Title, Director, Year\n",
    "          FROM Movies \"\"\"\n",
    "\n",
    "cursor.execute(sql)\n",
    "\n",
    "result = cursor.fetchall()\n",
    "for i in result:\n",
    "    print(i)\n",
    "\n",
    "conn.close()"
   ]
  },
  {
   "cell_type": "code",
   "execution_count": 12,
   "id": "a5f8ef66",
   "metadata": {},
   "outputs": [
    {
     "name": "stdout",
     "output_type": "stream",
     "text": [
      "\n",
      "Назва фільму: Toy Story Режисер: John Lasseter Рейтинг: 8.3 Рік випуску: 1995 Тривалість фільму: 81 Сума продажів: 361958736\n",
      "\n",
      "Назва фільму: A Bug's Life Режисер: John Lasseter Рейтинг: 7.2 Рік випуску: 1998 Тривалість фільму: 95 Сума продажів: 363398565\n",
      "\n",
      "Назва фільму: Toy Story 2 Режисер: John Lasseter Рейтинг: 7.9 Рік випуску: 1999 Тривалість фільму: 93 Сума продажів: 485015179\n",
      "\n",
      "Назва фільму: Monsters, Inc. Режисер: Pete Docter Рейтинг: 8.1 Рік випуску: 2001 Тривалість фільму: 92 Сума продажів: 562816256\n",
      "\n",
      "Назва фільму: Finding Nemo Режисер: Andrew Stanton Рейтинг: 8.2 Рік випуску: 2003 Тривалість фільму: 107 Сума продажів: 936743261\n",
      "\n",
      "Назва фільму: The Incredibles Режисер: Brad Bird Рейтинг: 8.0 Рік випуску: 2004 Тривалість фільму: 116 Сума продажів: 631442092\n",
      "\n",
      "Назва фільму: Cars 1 Режисер: John Lasseter Рейтинг: 7.2 Рік випуску: 2006 Тривалість фільму: 117 Сума продажів: 461983149\n",
      "\n",
      "Назва фільму: Ratatouille Режисер: Brad Bird Рейтинг: 8.0 Рік випуску: 2007 Тривалість фільму: 115 Сума продажів: 623722818\n",
      "\n",
      "Назва фільму: WALL-E Режисер: Andrew Stanton Рейтинг: 8.5 Рік випуску: 2008 Тривалість фільму: 104 Сума продажів: 521311860\n",
      "\n",
      "Назва фільму: Up Режисер: Pete Docter Рейтинг: 8.3 Рік випуску: 2009 Тривалість фільму: 101 Сума продажів: 731342744\n",
      "\n",
      "Назва фільму: Toy Story 3 Режисер: Lee Unkrich Рейтинг: 8.4 Рік випуску: 2010 Тривалість фільму: 103 Сума продажів: 1063171911\n",
      "\n",
      "Назва фільму: Cars 2 Режисер: John Lasseter Рейтинг: 6.4 Рік випуску: 2011 Тривалість фільму: 120 Сума продажів: 559852396\n",
      "\n",
      "Назва фільму: Brave Режисер: Brenda Chapman Рейтинг: 7.2 Рік випуску: 2012 Тривалість фільму: 102 Сума продажів: 538983207\n",
      "\n",
      "Назва фільму: Monsters University Режисер: Dan Scanlon Рейтинг: 7.4 Рік випуску: 2013 Тривалість фільму: 110 Сума продажів: 743559607\n"
     ]
    }
   ],
   "source": [
    "#Знайдіть інформацію по кожному з фільмів\n",
    "\n",
    "conn = sqlite3.connect(r\"C:\\Users\\admin\\Desktop\\Настя\\sql lab.db\")\n",
    "cursor = conn.cursor()\n",
    "\n",
    "sql = \"\"\" SELECT Title, Director, Rating, Year, Length_minutes, (Domestic_sales + International_sales) AS Sales \n",
    "          FROM Movies \n",
    "          INNER JOIN Boxoffice\n",
    "          ON Movies.Id = Boxoffice.Movie_Id\"\"\"\n",
    "\n",
    "cursor.execute(sql)\n",
    "\n",
    "result = cursor.fetchall()\n",
    "for i in result:\n",
    "    print('\\nНазва фільму:',i[0], 'Режисер:',i[1], 'Рейтинг:',i[2], 'Рік випуску:',i[3], 'Тривалість фільму:',i[4], 'Сума продажів:',i[5])\n",
    "\n",
    "conn.close()"
   ]
  },
  {
   "cell_type": "code",
   "execution_count": 13,
   "id": "831b0b64",
   "metadata": {},
   "outputs": [
    {
     "name": "stdout",
     "output_type": "stream",
     "text": [
      "[('The Incredibles',)]\n"
     ]
    }
   ],
   "source": [
    "#Знайдіть фільми Id яких дорівнює 6\n",
    "\n",
    "conn = sqlite3.connect(r\"C:\\Users\\admin\\Desktop\\Настя\\sql lab.db\")\n",
    "cursor = conn.cursor()\n",
    "\n",
    "sql = \"\"\" SELECT Title\n",
    "          FROM Movies \n",
    "          WHERE Id = 6\"\"\"\n",
    "\n",
    "cursor.execute(sql)\n",
    "\n",
    "print(cursor.fetchall())\n",
    "\n",
    "conn.close()"
   ]
  },
  {
   "cell_type": "code",
   "execution_count": 14,
   "id": "947f1367",
   "metadata": {},
   "outputs": [
    {
     "name": "stdout",
     "output_type": "stream",
     "text": [
      "('Monsters, Inc.',)\n",
      "('Finding Nemo',)\n",
      "('The Incredibles',)\n",
      "('Cars 1',)\n",
      "('Ratatouille',)\n",
      "('WALL-E',)\n",
      "('Up',)\n",
      "('Toy Story 3',)\n",
      "('The Lord of the Rings: The Fellowship of the Ring',)\n",
      "('The Lord of the Rings: The Fellowship of the Ring',)\n",
      "('The Lord of the Rings: The Fellowship of the Ring',)\n"
     ]
    }
   ],
   "source": [
    "#Знайдіть фільми, що вийшли з 2000 по 2010 рік\n",
    "\n",
    "\n",
    "conn = sqlite3.connect(r\"C:\\Users\\admin\\Desktop\\Настя\\sql lab.db\")\n",
    "cursor = conn.cursor()\n",
    "\n",
    "sql = \"\"\" SELECT Title\n",
    "          FROM Movies \n",
    "          WHERE Year BETWEEN 2000 AND 2010\"\"\"\n",
    "\n",
    "cursor.execute(sql)\n",
    "\n",
    "result = cursor.fetchall()\n",
    "for i in result:\n",
    "    print(i)\n",
    "\n",
    "conn.close()"
   ]
  },
  {
   "cell_type": "code",
   "execution_count": 15,
   "id": "37ee00ad",
   "metadata": {},
   "outputs": [
    {
     "name": "stdout",
     "output_type": "stream",
     "text": [
      "('Cars 1',)\n",
      "('WALL-E',)\n",
      "('Toy Story 3',)\n"
     ]
    }
   ],
   "source": [
    "#Знайдіть фільми, які були випущені у 2006, 2088, 2010 роках.\n",
    "\n",
    "conn = sqlite3.connect(r\"C:\\Users\\admin\\Desktop\\Настя\\sql lab.db\")\n",
    "cursor = conn.cursor()\n",
    "\n",
    "sql = \"\"\" SELECT Title\n",
    "          FROM Movies \n",
    "          WHERE Year IN (2006, 2008, 2010)\"\"\"\n",
    "\n",
    "cursor.execute(sql)\n",
    "\n",
    "result = cursor.fetchall()\n",
    "for i in result:\n",
    "    print(i)\n",
    "\n",
    "conn.close()"
   ]
  },
  {
   "cell_type": "code",
   "execution_count": 16,
   "id": "5332bfe2",
   "metadata": {},
   "outputs": [
    {
     "name": "stdout",
     "output_type": "stream",
     "text": [
      "('Toy Story', 'John Lasseter')\n",
      "(\"A Bug's Life\", 'John Lasseter')\n",
      "('Toy Story 2', 'John Lasseter')\n",
      "('Monsters, Inc.', 'Pete Docter')\n",
      "('Finding Nemo', 'Andrew Stanton')\n",
      "('The Incredibles', 'Brad Bird')\n",
      "('Cars 1', 'John Lasseter')\n",
      "('Ratatouille', 'Brad Bird')\n",
      "('WALL-E', 'Andrew Stanton')\n",
      "('Up', 'Pete Docter')\n",
      "('Toy Story 3', 'Lee Unkrich')\n",
      "('The Lord of the Rings: The Fellowship of the Ring', 'Peter Jackson')\n",
      "('The Lord of the Rings: The Fellowship of the Ring', 'Peter Jackson')\n",
      "('The Lord of the Rings: The Fellowship of the Ring', 'Peter Jackson')\n"
     ]
    }
   ],
   "source": [
    "#Знайдіть фільми та їх директорів, випущені до 2010 року (з використанням NOT)\n",
    "\n",
    "conn = sqlite3.connect(r\"C:\\Users\\admin\\Desktop\\Настя\\sql lab.db\")\n",
    "cursor = conn.cursor()\n",
    "\n",
    "sql = \"\"\" SELECT Title, Director\n",
    "          FROM Movies \n",
    "          WHERE Year NOT BETWEEN 2011 AND 2023\"\"\"\n",
    "\n",
    "cursor.execute(sql)\n",
    "\n",
    "result = cursor.fetchall()\n",
    "for i in result:\n",
    "    print(i)\n",
    "\n",
    "conn.close()"
   ]
  },
  {
   "cell_type": "code",
   "execution_count": 17,
   "id": "fcb8a672",
   "metadata": {},
   "outputs": [
    {
     "name": "stdout",
     "output_type": "stream",
     "text": [
      "('Toy Story',)\n",
      "('Toy Story 2',)\n",
      "('Toy Story 3',)\n"
     ]
    }
   ],
   "source": [
    "#Знайдіть всі фільми Toy Story\n",
    "\n",
    "conn = sqlite3.connect(r\"C:\\Users\\admin\\Desktop\\Настя\\sql lab.db\")\n",
    "cursor = conn.cursor()\n",
    "\n",
    "sql = \"\"\" SELECT Title\n",
    "          FROM Movies \n",
    "          WHERE Title LIKE 'Toy Story%' \"\"\"\n",
    "\n",
    "cursor.execute(sql)\n",
    "\n",
    "result = cursor.fetchall()\n",
    "for i in result:\n",
    "    print(i)\n",
    "\n",
    "conn.close()"
   ]
  },
  {
   "cell_type": "code",
   "execution_count": 18,
   "id": "f219b835",
   "metadata": {},
   "outputs": [
    {
     "name": "stdout",
     "output_type": "stream",
     "text": [
      "('Toy Story 2',)\n",
      "('Toy Story 3',)\n"
     ]
    }
   ],
   "source": [
    "#Знайдіть 2 фільми Toy Story іншим способом\n",
    "\n",
    "conn = sqlite3.connect(r\"C:\\Users\\admin\\Desktop\\Настя\\sql lab.db\")\n",
    "cursor = conn.cursor()\n",
    "\n",
    "sql = \"\"\" SELECT Title\n",
    "          FROM Movies \n",
    "          WHERE Title LIKE 'Toy Story _' \"\"\"\n",
    "\n",
    "cursor.execute(sql)\n",
    "\n",
    "result = cursor.fetchall()\n",
    "for i in result:\n",
    "    print(i)\n",
    "\n",
    "conn.close()"
   ]
  },
  {
   "cell_type": "code",
   "execution_count": 19,
   "id": "d971e09b",
   "metadata": {},
   "outputs": [
    {
     "name": "stdout",
     "output_type": "stream",
     "text": [
      "('Toy Story',)\n",
      "(\"A Bug's Life\",)\n",
      "('Toy Story 2',)\n",
      "('Cars 1',)\n",
      "('Cars 2',)\n"
     ]
    }
   ],
   "source": [
    "#Знайдіть всі фільми, що були зняті Джоном Лассатером\n",
    "\n",
    "conn = sqlite3.connect(r\"C:\\Users\\admin\\Desktop\\Настя\\sql lab.db\")\n",
    "cursor = conn.cursor()\n",
    "\n",
    "sql = \"\"\" SELECT Title\n",
    "          FROM Movies \n",
    "          WHERE Director = 'John Lasseter' \"\"\"\n",
    "\n",
    "cursor.execute(sql)\n",
    "\n",
    "result = cursor.fetchall()\n",
    "for i in result:\n",
    "    print(i)\n",
    "\n",
    "conn.close()"
   ]
  },
  {
   "cell_type": "code",
   "execution_count": 20,
   "id": "1741fef0",
   "metadata": {},
   "outputs": [
    {
     "name": "stdout",
     "output_type": "stream",
     "text": [
      "('Monsters, Inc.',)\n",
      "('Finding Nemo',)\n",
      "('The Incredibles',)\n",
      "('Ratatouille',)\n",
      "('WALL-E',)\n",
      "('Up',)\n",
      "('Toy Story 3',)\n",
      "('Brave',)\n",
      "('Monsters University',)\n",
      "('The Lord of the Rings: The Fellowship of the Ring',)\n",
      "('The Lord of the Rings: The Fellowship of the Ring',)\n",
      "('The Lord of the Rings: The Fellowship of the Ring',)\n"
     ]
    }
   ],
   "source": [
    "#Знайдіть всі фільми, що НЕ були зняті Джоном Лассетером\n",
    "\n",
    "conn = sqlite3.connect(r\"C:\\Users\\admin\\Desktop\\Настя\\sql lab.db\")\n",
    "cursor = conn.cursor()\n",
    "\n",
    "sql = \"\"\" SELECT Title\n",
    "          FROM Movies \n",
    "          WHERE Director != 'John Lasseter' \"\"\"\n",
    "\n",
    "cursor.execute(sql)\n",
    "\n",
    "result = cursor.fetchall()\n",
    "for i in result:\n",
    "    print(i)\n",
    "\n",
    "conn.close()"
   ]
  },
  {
   "cell_type": "code",
   "execution_count": 21,
   "id": "19e4609c",
   "metadata": {},
   "outputs": [
    {
     "name": "stdout",
     "output_type": "stream",
     "text": [
      "('WALL-E',)\n"
     ]
    }
   ],
   "source": [
    "#Знайдіть всі фільми WALL-*\n",
    "\n",
    "conn = sqlite3.connect(r\"C:\\Users\\admin\\Desktop\\Настя\\sql lab.db\")\n",
    "cursor = conn.cursor()\n",
    "\n",
    "sql = \"\"\" SELECT Title\n",
    "          FROM Movies \n",
    "          WHERE Title LIKE 'WALL-%' \"\"\"\n",
    "\n",
    "cursor.execute(sql)\n",
    "\n",
    "result = cursor.fetchall()\n",
    "for i in result:\n",
    "    print(i)\n",
    "\n",
    "conn.close()"
   ]
  },
  {
   "cell_type": "code",
   "execution_count": 22,
   "id": "356d5d67",
   "metadata": {},
   "outputs": [
    {
     "name": "stdout",
     "output_type": "stream",
     "text": [
      "('Andrew Stanton',)\n",
      "('Brad Bird',)\n",
      "('Brenda Chapman',)\n",
      "('Dan Scanlon',)\n",
      "('John Lasseter',)\n",
      "('Lee Unkrich',)\n",
      "('Pete Docter',)\n",
      "('Peter Jackson',)\n"
     ]
    }
   ],
   "source": [
    "# Виведіть перелік режисерів(без дублювання) в алфавітному порядку\n",
    "\n",
    "conn = sqlite3.connect(r\"C:\\Users\\admin\\Desktop\\Настя\\sql lab.db\")\n",
    "cursor = conn.cursor()\n",
    "\n",
    "sql = \"\"\" SELECT DISTINCT Director\n",
    "          FROM Movies \n",
    "          ORDER BY Director ASC \"\"\"\n",
    "\n",
    "cursor.execute(sql)\n",
    "\n",
    "result = cursor.fetchall()\n",
    "for i in result:\n",
    "    print(i)\n",
    "\n",
    "conn.close()"
   ]
  },
  {
   "cell_type": "code",
   "execution_count": 23,
   "id": "be5a8ce2",
   "metadata": {},
   "outputs": [
    {
     "name": "stdout",
     "output_type": "stream",
     "text": [
      "('Monsters University',)\n",
      "('Brave',)\n",
      "('Cars 2',)\n",
      "('Toy Story 3',)\n"
     ]
    }
   ],
   "source": [
    "# Перелік з 4 фільмів новійших фільмів\n",
    "\n",
    "conn = sqlite3.connect(r\"C:\\Users\\admin\\Desktop\\Настя\\sql lab.db\")\n",
    "cursor = conn.cursor()\n",
    "\n",
    "sql = \"\"\" SELECT Title\n",
    "          FROM Movies \n",
    "          ORDER BY Year DESC\n",
    "          LIMIT 4\"\"\"\n",
    "\n",
    "cursor.execute(sql)\n",
    "\n",
    "result = cursor.fetchall()\n",
    "for i in result:\n",
    "    print(i)\n",
    "\n",
    "conn.close()"
   ]
  },
  {
   "cell_type": "code",
   "execution_count": 24,
   "id": "d64fa23b",
   "metadata": {},
   "outputs": [
    {
     "name": "stdout",
     "output_type": "stream",
     "text": [
      "(\"A Bug's Life\",)\n",
      "('Brave',)\n",
      "('Cars 1',)\n",
      "('Cars 2',)\n",
      "('Finding Nemo',)\n"
     ]
    }
   ],
   "source": [
    "#Перелік з 5 фільмів, відсортованих за алфавітом\n",
    "\n",
    "conn = sqlite3.connect(r\"C:\\Users\\admin\\Desktop\\Настя\\sql lab.db\")\n",
    "cursor = conn.cursor()\n",
    "\n",
    "sql = \"\"\" SELECT Title\n",
    "          FROM Movies \n",
    "          ORDER BY Title ASC\n",
    "          LIMIT 5\"\"\"\n",
    "\n",
    "cursor.execute(sql)\n",
    "\n",
    "result = cursor.fetchall()\n",
    "for i in result:\n",
    "    print(i)\n",
    "\n",
    "conn.close()"
   ]
  },
  {
   "cell_type": "code",
   "execution_count": 25,
   "id": "79bd02ac",
   "metadata": {},
   "outputs": [
    {
     "name": "stdout",
     "output_type": "stream",
     "text": [
      "('The Lord of the Rings: The Fellowship of the Ring',)\n",
      "('Toy Story',)\n",
      "('Toy Story 2',)\n",
      "('Toy Story 3',)\n",
      "('Up',)\n"
     ]
    }
   ],
   "source": [
    "#Перелік з наступних 5 фільмів, відсортованих за алфавітом\n",
    "\n",
    "conn = sqlite3.connect(r\"C:\\Users\\admin\\Desktop\\Настя\\sql lab.db\")\n",
    "cursor = conn.cursor()\n",
    "\n",
    "sql = \"\"\" SELECT DISTINCT Title\n",
    "          FROM Movies \n",
    "          ORDER BY Title ASC\n",
    "          LIMIT 5 OFFSET 9\"\"\"\n",
    "\n",
    "cursor.execute(sql)\n",
    "\n",
    "result = cursor.fetchall()\n",
    "for i in result:\n",
    "    print(i)\n",
    "\n",
    "conn.close()"
   ]
  },
  {
   "cell_type": "code",
   "execution_count": 26,
   "id": "50c1fa46",
   "metadata": {},
   "outputs": [
    {
     "name": "stdout",
     "output_type": "stream",
     "text": [
      "('Toy Story', 191796233, 170162503)\n",
      "(\"A Bug's Life\", 162798565, 200600000)\n",
      "('Toy Story 2', 245852179, 239163000)\n",
      "('Monsters, Inc.', 289916256, 272900000)\n",
      "('Finding Nemo', 380843261, 555900000)\n",
      "('The Incredibles', 261441092, 370001000)\n",
      "('Cars 1', 244082982, 217900167)\n",
      "('Ratatouille', 206445654, 417277164)\n",
      "('WALL-E', 223808164, 297503696)\n",
      "('Up', 293004164, 438338580)\n",
      "('Toy Story 3', 415004880, 648167031)\n",
      "('Cars 2', 191452396, 368400000)\n",
      "('Brave', 237283207, 301700000)\n",
      "('Monsters University', 268492764, 475066843)\n"
     ]
    }
   ],
   "source": [
    "#Для таблиць Movies та Boxoffice, об’єднаних через INNER JOIN:\n",
    "\n",
    "conn = sqlite3.connect(r\"C:\\Users\\admin\\Desktop\\Настя\\sql lab.db\")\n",
    "cursor = conn.cursor()\n",
    "\n",
    "sql = \"\"\" SELECT Title, Domestic_sales, International_sales\n",
    "          FROM Movies \n",
    "          INNER JOIN Boxoffice\n",
    "          ON Movies.Id = Boxoffice.Movie_Id\"\"\"\n",
    "\n",
    "cursor.execute(sql)\n",
    "\n",
    "result = cursor.fetchall()\n",
    "for i in result:\n",
    "    print(i)\n",
    "\n",
    "conn.close()"
   ]
  },
  {
   "cell_type": "code",
   "execution_count": 27,
   "id": "c8cc4d1a",
   "metadata": {},
   "outputs": [
    {
     "name": "stdout",
     "output_type": "stream",
     "text": [
      "('WALL-E', 8.5)\n",
      "('Toy Story 3', 8.4)\n",
      "('Toy Story', 8.3)\n",
      "('Up', 8.3)\n",
      "('Finding Nemo', 8.2)\n",
      "('Monsters, Inc.', 8.1)\n",
      "('The Incredibles', 8.0)\n",
      "('Ratatouille', 8.0)\n",
      "('Toy Story 2', 7.9)\n",
      "('Monsters University', 7.4)\n",
      "(\"A Bug's Life\", 7.2)\n",
      "('Cars 1', 7.2)\n",
      "('Brave', 7.2)\n",
      "('Cars 2', 6.4)\n"
     ]
    }
   ],
   "source": [
    "# Знайдіть внутрішні та міжнародні продажі для кожного фільму\n",
    "\n",
    "conn = sqlite3.connect(r\"C:\\Users\\admin\\Desktop\\Настя\\sql lab.db\")\n",
    "cursor = conn.cursor()\n",
    "\n",
    "sql = \"\"\" SELECT Title, Rating\n",
    "          FROM Movies \n",
    "          INNER JOIN Boxoffice\n",
    "          ON Movies.Id = Boxoffice.Movie_Id\n",
    "          ORDER BY Rating DESC\"\"\"\n",
    "\n",
    "cursor.execute(sql)\n",
    "\n",
    "result = cursor.fetchall()\n",
    "for i in result:\n",
    "    print(i)\n",
    "\n",
    "conn.close()"
   ]
  },
  {
   "cell_type": "code",
   "execution_count": 28,
   "id": "d8839e0f",
   "metadata": {},
   "outputs": [
    {
     "name": "stdout",
     "output_type": "stream",
     "text": [
      "('WALL-E', 8.5)\n",
      "('Toy Story 3', 8.4)\n",
      "('Toy Story', 8.3)\n",
      "('Up', 8.3)\n",
      "('Finding Nemo', 8.2)\n",
      "('Monsters, Inc.', 8.1)\n",
      "('The Incredibles', 8.0)\n",
      "('Ratatouille', 8.0)\n",
      "('Toy Story 2', 7.9)\n",
      "('Monsters University', 7.4)\n",
      "(\"A Bug's Life\", 7.2)\n",
      "('Cars 1', 7.2)\n",
      "('Brave', 7.2)\n",
      "('Cars 2', 6.4)\n"
     ]
    }
   ],
   "source": [
    "#- Покажіть всі фільми з їх рейтингами у спадному порядку\n",
    "\n",
    "conn = sqlite3.connect(r\"C:\\Users\\admin\\Desktop\\Настя\\sql lab.db\")\n",
    "cursor = conn.cursor()\n",
    "\n",
    "sql = \"\"\" SELECT Title, Rating\n",
    "          FROM Movies \n",
    "          INNER JOIN Boxoffice\n",
    "          ON Movies.Id = Boxoffice.Movie_Id\n",
    "          ORDER BY Rating DESC\"\"\"\n",
    "\n",
    "cursor.execute(sql)\n",
    "\n",
    "result = cursor.fetchall()\n",
    "for i in result:\n",
    "    print(i)\n",
    "\n",
    "conn.close()"
   ]
  },
  {
   "cell_type": "code",
   "execution_count": 30,
   "id": "40179b59",
   "metadata": {},
   "outputs": [
    {
     "name": "stdout",
     "output_type": "stream",
     "text": [
      "('Becky A.', '1e', 'Engineer')\n",
      "('Dan B.', '1e', 'Engineer')\n",
      "('Sharon F.', '1e', 'Engineer')\n",
      "('Dan M.', '1e', 'Engineer')\n",
      "('Malcom S.', '1e', 'Engineer')\n",
      "('Jakob J.', '2w', 'Artist')\n",
      "('Lillia A.', '2w', 'Artist')\n",
      "('Brandon J.', '2w', 'Artist')\n",
      "('Daria O.', '2w', 'Manager')\n"
     ]
    }
   ],
   "source": [
    "#- Виведіть перелік людей та їх спеціальностей, які не прикріплені до будинків\n",
    "\n",
    "conn = sqlite3.connect(r\"C:\\Users\\admin\\Desktop\\Настя\\sql lab.db\")\n",
    "cursor = conn.cursor()\n",
    "\n",
    "sql = \"\"\" SELECT Name, Building_names, Role\n",
    "          FROM Employees \n",
    "          INNER JOIN Buildings\n",
    "          ON Employees.Building = Buildings.Building_names\"\"\"\n",
    "\n",
    "cursor.execute(sql)\n",
    "\n",
    "result = cursor.fetchall()\n",
    "for i in result:\n",
    "    print(i)\n",
    "\n",
    "conn.close()"
   ]
  },
  {
   "cell_type": "code",
   "execution_count": 31,
   "id": "1f3d38a8",
   "metadata": {},
   "outputs": [
    {
     "name": "stdout",
     "output_type": "stream",
     "text": [
      "('Toy Story', 361958736)\n",
      "(\"A Bug's Life\", 363398565)\n",
      "('Toy Story 2', 485015179)\n",
      "('Monsters, Inc.', 562816256)\n",
      "('Finding Nemo', 936743261)\n",
      "('The Incredibles', 631442092)\n",
      "('Cars 1', 461983149)\n",
      "('Ratatouille', 623722818)\n",
      "('WALL-E', 521311860)\n",
      "('Up', 731342744)\n",
      "('Toy Story 3', 1063171911)\n",
      "('Cars 2', 559852396)\n",
      "('Brave', 538983207)\n",
      "('Monsters University', 743559607)\n"
     ]
    }
   ],
   "source": [
    "# Виведіть всі назви фільмів та їх загальні збори в доларовому еквіваленті\n",
    "\n",
    "conn = sqlite3.connect(r\"C:\\Users\\admin\\Desktop\\Настя\\sql lab.db\")\n",
    "cursor = conn.cursor()\n",
    "\n",
    "sql = \"\"\" SELECT Title, Domestic_sales + International_sales\n",
    "          FROM Movies \n",
    "          INNER JOIN Boxoffice\n",
    "          ON Movies.Id = Boxoffice.Movie_id\"\"\"\n",
    "\n",
    "cursor.execute(sql)\n",
    "\n",
    "result = cursor.fetchall()  \n",
    "for i in result:\n",
    "    print(i)\n",
    "\n",
    "conn.close()"
   ]
  }
 ],
 "metadata": {
  "kernelspec": {
   "display_name": "Python 3 (ipykernel)",
   "language": "python",
   "name": "python3"
  },
  "language_info": {
   "codemirror_mode": {
    "name": "ipython",
    "version": 3
   },
   "file_extension": ".py",
   "mimetype": "text/x-python",
   "name": "python",
   "nbconvert_exporter": "python",
   "pygments_lexer": "ipython3",
   "version": "3.9.13"
  }
 },
 "nbformat": 4,
 "nbformat_minor": 5
}
